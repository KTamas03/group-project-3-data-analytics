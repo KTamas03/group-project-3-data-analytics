{
 "cells": [
  {
   "cell_type": "code",
   "execution_count": 1,
   "id": "e3dbc3ae",
   "metadata": {},
   "outputs": [],
   "source": [
    "# Import dependencies\n",
    "import pandas as pd\n",
    "from pathlib import Path"
   ]
  },
  {
   "cell_type": "code",
   "execution_count": 2,
   "id": "a184103b",
   "metadata": {},
   "outputs": [],
   "source": [
    "# File to Load\n",
    "atmos_path = Path(\"../Datasets/ATMOSPHERIC_COND.csv\")"
   ]
  },
  {
   "cell_type": "code",
   "execution_count": 3,
   "id": "9120c031",
   "metadata": {},
   "outputs": [],
   "source": [
    "# Read the CSV file\n",
    "atmos_data = pd.read_csv(atmos_path, low_memory=False)"
   ]
  },
  {
   "cell_type": "code",
   "execution_count": 4,
   "id": "28f4cdfa",
   "metadata": {},
   "outputs": [
    {
     "data": {
      "text/html": [
       "<div>\n",
       "<style scoped>\n",
       "    .dataframe tbody tr th:only-of-type {\n",
       "        vertical-align: middle;\n",
       "    }\n",
       "\n",
       "    .dataframe tbody tr th {\n",
       "        vertical-align: top;\n",
       "    }\n",
       "\n",
       "    .dataframe thead th {\n",
       "        text-align: right;\n",
       "    }\n",
       "</style>\n",
       "<table border=\"1\" class=\"dataframe\">\n",
       "  <thead>\n",
       "    <tr style=\"text-align: right;\">\n",
       "      <th></th>\n",
       "      <th>ACCIDENT_NO</th>\n",
       "      <th>ATMOSPH_COND</th>\n",
       "      <th>ATMOSPH_COND_SEQ</th>\n",
       "      <th>Atmosph Cond Desc</th>\n",
       "    </tr>\n",
       "  </thead>\n",
       "  <tbody>\n",
       "    <tr>\n",
       "      <th>0</th>\n",
       "      <td>T20060000010</td>\n",
       "      <td>1</td>\n",
       "      <td>1</td>\n",
       "      <td>Clear</td>\n",
       "    </tr>\n",
       "    <tr>\n",
       "      <th>1</th>\n",
       "      <td>T20060000018</td>\n",
       "      <td>1</td>\n",
       "      <td>1</td>\n",
       "      <td>Clear</td>\n",
       "    </tr>\n",
       "    <tr>\n",
       "      <th>2</th>\n",
       "      <td>T20060000022</td>\n",
       "      <td>1</td>\n",
       "      <td>1</td>\n",
       "      <td>Clear</td>\n",
       "    </tr>\n",
       "    <tr>\n",
       "      <th>3</th>\n",
       "      <td>T20060000023</td>\n",
       "      <td>1</td>\n",
       "      <td>1</td>\n",
       "      <td>Clear</td>\n",
       "    </tr>\n",
       "    <tr>\n",
       "      <th>4</th>\n",
       "      <td>T20060000026</td>\n",
       "      <td>1</td>\n",
       "      <td>1</td>\n",
       "      <td>Clear</td>\n",
       "    </tr>\n",
       "  </tbody>\n",
       "</table>\n",
       "</div>"
      ],
      "text/plain": [
       "    ACCIDENT_NO  ATMOSPH_COND  ATMOSPH_COND_SEQ Atmosph Cond Desc\n",
       "0  T20060000010             1                 1             Clear\n",
       "1  T20060000018             1                 1             Clear\n",
       "2  T20060000022             1                 1             Clear\n",
       "3  T20060000023             1                 1             Clear\n",
       "4  T20060000026             1                 1             Clear"
      ]
     },
     "execution_count": 4,
     "metadata": {},
     "output_type": "execute_result"
    }
   ],
   "source": [
    "# Store it in a Dataframe\n",
    "atmos_data_df = pd.DataFrame(atmos_data)\n",
    "atmos_data_df.head()"
   ]
  },
  {
   "cell_type": "code",
   "execution_count": 5,
   "id": "a6c3a298",
   "metadata": {},
   "outputs": [
    {
     "data": {
      "text/plain": [
       "203708"
      ]
     },
     "execution_count": 5,
     "metadata": {},
     "output_type": "execute_result"
    }
   ],
   "source": [
    "# Get the total of unique accident data from vehicle table\n",
    "unique_atmos_data = len(atmos_data_df[\"ACCIDENT_NO\"].unique())\n",
    "unique_atmos_data"
   ]
  },
  {
   "cell_type": "code",
   "execution_count": 6,
   "id": "05107b4a",
   "metadata": {},
   "outputs": [
    {
     "data": {
      "text/plain": [
       "ACCIDENT_NO          object\n",
       "ATMOSPH_COND          int64\n",
       "ATMOSPH_COND_SEQ      int64\n",
       "Atmosph Cond Desc    object\n",
       "dtype: object"
      ]
     },
     "execution_count": 6,
     "metadata": {},
     "output_type": "execute_result"
    }
   ],
   "source": [
    "# Checking the data types\n",
    "column_data_types = atmos_data_df.dtypes\n",
    "column_data_types"
   ]
  },
  {
   "cell_type": "code",
   "execution_count": 7,
   "id": "699eb065",
   "metadata": {},
   "outputs": [
    {
     "data": {
      "text/plain": [
       "ACCIDENT_NO          False\n",
       "ATMOSPH_COND         False\n",
       "ATMOSPH_COND_SEQ     False\n",
       "Atmosph Cond Desc    False\n",
       "dtype: bool"
      ]
     },
     "execution_count": 7,
     "metadata": {},
     "output_type": "execute_result"
    }
   ],
   "source": [
    "# Find columns with missing values\n",
    "columns_with_missing_values = atmos_data_df.isnull().any()\n",
    "\n",
    "# Display the columns with missing values\n",
    "columns_with_missing_values"
   ]
  },
  {
   "cell_type": "code",
   "execution_count": 8,
   "id": "a2bee640",
   "metadata": {},
   "outputs": [
    {
     "data": {
      "text/html": [
       "<div>\n",
       "<style scoped>\n",
       "    .dataframe tbody tr th:only-of-type {\n",
       "        vertical-align: middle;\n",
       "    }\n",
       "\n",
       "    .dataframe tbody tr th {\n",
       "        vertical-align: top;\n",
       "    }\n",
       "\n",
       "    .dataframe thead th {\n",
       "        text-align: right;\n",
       "    }\n",
       "</style>\n",
       "<table border=\"1\" class=\"dataframe\">\n",
       "  <thead>\n",
       "    <tr style=\"text-align: right;\">\n",
       "      <th></th>\n",
       "      <th>ACCIDENT_NO</th>\n",
       "      <th>Atmosph_Cond_Desc</th>\n",
       "    </tr>\n",
       "  </thead>\n",
       "  <tbody>\n",
       "    <tr>\n",
       "      <th>0</th>\n",
       "      <td>T20060000010</td>\n",
       "      <td>Clear</td>\n",
       "    </tr>\n",
       "    <tr>\n",
       "      <th>1</th>\n",
       "      <td>T20060000018</td>\n",
       "      <td>Clear</td>\n",
       "    </tr>\n",
       "    <tr>\n",
       "      <th>2</th>\n",
       "      <td>T20060000022</td>\n",
       "      <td>Clear</td>\n",
       "    </tr>\n",
       "    <tr>\n",
       "      <th>3</th>\n",
       "      <td>T20060000023</td>\n",
       "      <td>Clear</td>\n",
       "    </tr>\n",
       "    <tr>\n",
       "      <th>4</th>\n",
       "      <td>T20060000026</td>\n",
       "      <td>Clear</td>\n",
       "    </tr>\n",
       "    <tr>\n",
       "      <th>...</th>\n",
       "      <td>...</td>\n",
       "      <td>...</td>\n",
       "    </tr>\n",
       "    <tr>\n",
       "      <th>203703</th>\n",
       "      <td>T20200019239</td>\n",
       "      <td>Clear</td>\n",
       "    </tr>\n",
       "    <tr>\n",
       "      <th>203704</th>\n",
       "      <td>T20200019247</td>\n",
       "      <td>Clear</td>\n",
       "    </tr>\n",
       "    <tr>\n",
       "      <th>203705</th>\n",
       "      <td>T20200019250</td>\n",
       "      <td>Clear</td>\n",
       "    </tr>\n",
       "    <tr>\n",
       "      <th>203706</th>\n",
       "      <td>T20200019253</td>\n",
       "      <td>Clear</td>\n",
       "    </tr>\n",
       "    <tr>\n",
       "      <th>203707</th>\n",
       "      <td>T20200019417</td>\n",
       "      <td>Clear</td>\n",
       "    </tr>\n",
       "  </tbody>\n",
       "</table>\n",
       "<p>203708 rows × 2 columns</p>\n",
       "</div>"
      ],
      "text/plain": [
       "         ACCIDENT_NO Atmosph_Cond_Desc\n",
       "0       T20060000010             Clear\n",
       "1       T20060000018             Clear\n",
       "2       T20060000022             Clear\n",
       "3       T20060000023             Clear\n",
       "4       T20060000026             Clear\n",
       "...              ...               ...\n",
       "203703  T20200019239             Clear\n",
       "203704  T20200019247             Clear\n",
       "203705  T20200019250             Clear\n",
       "203706  T20200019253             Clear\n",
       "203707  T20200019417             Clear\n",
       "\n",
       "[203708 rows x 2 columns]"
      ]
     },
     "execution_count": 8,
     "metadata": {},
     "output_type": "execute_result"
    }
   ],
   "source": [
    "# Group by ACCIDENT_NO and aggregate Atmosph Cond Desc values\n",
    "grouped_atmos_data = atmos_data_df.groupby('ACCIDENT_NO')['Atmosph Cond Desc'].apply(', '.join).reset_index()\n",
    "\n",
    "# Rename the column to indicate concatenated atmos conditions\n",
    "grouped_atmos_data.rename(columns={'Atmosph Cond Desc': 'Atmosph_Cond_Desc'}, inplace=True)\n",
    "\n",
    "# Display the resulting DataFrame\n",
    "grouped_atmos_data"
   ]
  },
  {
   "cell_type": "code",
   "execution_count": 9,
   "id": "7a17a267",
   "metadata": {},
   "outputs": [],
   "source": [
    "# Export file in Data folder\n",
    "cleaned_data_output_path = Path(\"../Cleaned_Datasets/atmospheric_cond_cleaned.csv\")\n",
    "grouped_atmos_data.to_csv(cleaned_data_output_path, index=None, header=True)"
   ]
  },
  {
   "cell_type": "code",
   "execution_count": null,
   "id": "d9584890",
   "metadata": {},
   "outputs": [],
   "source": []
  }
 ],
 "metadata": {
  "kernelspec": {
   "display_name": "Python 3 (ipykernel)",
   "language": "python",
   "name": "python3"
  },
  "language_info": {
   "codemirror_mode": {
    "name": "ipython",
    "version": 3
   },
   "file_extension": ".py",
   "mimetype": "text/x-python",
   "name": "python",
   "nbconvert_exporter": "python",
   "pygments_lexer": "ipython3",
   "version": "3.10.11"
  }
 },
 "nbformat": 4,
 "nbformat_minor": 5
}
