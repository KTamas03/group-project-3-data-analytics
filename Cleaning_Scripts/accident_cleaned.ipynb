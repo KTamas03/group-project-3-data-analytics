{
 "cells": [
  {
   "cell_type": "code",
   "execution_count": 1,
   "id": "fdc0d604",
   "metadata": {},
   "outputs": [],
   "source": [
    "# Import dependencies\n",
    "import pandas as pd\n",
    "from pathlib import Path"
   ]
  },
  {
   "cell_type": "code",
   "execution_count": 2,
   "id": "76041221",
   "metadata": {},
   "outputs": [],
   "source": [
    "# File to Load\n",
    "accident_path = Path(\"../Datasets/ACCIDENT.csv\")"
   ]
  },
  {
   "cell_type": "code",
   "execution_count": 3,
   "id": "c6f3040b",
   "metadata": {},
   "outputs": [],
   "source": [
    "# Read the CSV file\n",
    "accident_data = pd.read_csv(accident_path, low_memory=False)"
   ]
  },
  {
   "cell_type": "code",
   "execution_count": 4,
   "id": "742a4de2",
   "metadata": {
    "scrolled": true
   },
   "outputs": [
    {
     "data": {
      "text/html": [
       "<div>\n",
       "<style scoped>\n",
       "    .dataframe tbody tr th:only-of-type {\n",
       "        vertical-align: middle;\n",
       "    }\n",
       "\n",
       "    .dataframe tbody tr th {\n",
       "        vertical-align: top;\n",
       "    }\n",
       "\n",
       "    .dataframe thead th {\n",
       "        text-align: right;\n",
       "    }\n",
       "</style>\n",
       "<table border=\"1\" class=\"dataframe\">\n",
       "  <thead>\n",
       "    <tr style=\"text-align: right;\">\n",
       "      <th></th>\n",
       "      <th>ACCIDENT_NO</th>\n",
       "      <th>ACCIDENTDATE</th>\n",
       "      <th>ACCIDENTTIME</th>\n",
       "      <th>ACCIDENT_TYPE</th>\n",
       "      <th>Accident Type Desc</th>\n",
       "      <th>DAY_OF_WEEK</th>\n",
       "      <th>Day Week Description</th>\n",
       "      <th>DCA_CODE</th>\n",
       "      <th>DCA Description</th>\n",
       "      <th>DIRECTORY</th>\n",
       "      <th>...</th>\n",
       "      <th>NO_PERSONS</th>\n",
       "      <th>NO_PERSONS_INJ_2</th>\n",
       "      <th>NO_PERSONS_INJ_3</th>\n",
       "      <th>NO_PERSONS_KILLED</th>\n",
       "      <th>NO_PERSONS_NOT_INJ</th>\n",
       "      <th>POLICE_ATTEND</th>\n",
       "      <th>ROAD_GEOMETRY</th>\n",
       "      <th>Road Geometry Desc</th>\n",
       "      <th>SEVERITY</th>\n",
       "      <th>SPEED_ZONE</th>\n",
       "    </tr>\n",
       "  </thead>\n",
       "  <tbody>\n",
       "    <tr>\n",
       "      <th>0</th>\n",
       "      <td>T20060000010</td>\n",
       "      <td>13/01/2006</td>\n",
       "      <td>12:42:00</td>\n",
       "      <td>1</td>\n",
       "      <td>Collision with vehicle</td>\n",
       "      <td>6</td>\n",
       "      <td>Friday</td>\n",
       "      <td>113</td>\n",
       "      <td>RIGHT NEAR (INTERSECTIONS ONLY)</td>\n",
       "      <td>MEL</td>\n",
       "      <td>...</td>\n",
       "      <td>6</td>\n",
       "      <td>0</td>\n",
       "      <td>1</td>\n",
       "      <td>0</td>\n",
       "      <td>5</td>\n",
       "      <td>1</td>\n",
       "      <td>1</td>\n",
       "      <td>Cross intersection</td>\n",
       "      <td>3</td>\n",
       "      <td>60</td>\n",
       "    </tr>\n",
       "    <tr>\n",
       "      <th>1</th>\n",
       "      <td>T20060000018</td>\n",
       "      <td>13/01/2006</td>\n",
       "      <td>19:10:00</td>\n",
       "      <td>1</td>\n",
       "      <td>Collision with vehicle</td>\n",
       "      <td>6</td>\n",
       "      <td>Friday</td>\n",
       "      <td>113</td>\n",
       "      <td>RIGHT NEAR (INTERSECTIONS ONLY)</td>\n",
       "      <td>MEL</td>\n",
       "      <td>...</td>\n",
       "      <td>4</td>\n",
       "      <td>0</td>\n",
       "      <td>1</td>\n",
       "      <td>0</td>\n",
       "      <td>3</td>\n",
       "      <td>1</td>\n",
       "      <td>2</td>\n",
       "      <td>T intersection</td>\n",
       "      <td>3</td>\n",
       "      <td>70</td>\n",
       "    </tr>\n",
       "    <tr>\n",
       "      <th>2</th>\n",
       "      <td>T20060000022</td>\n",
       "      <td>14/01/2006</td>\n",
       "      <td>12:10:00</td>\n",
       "      <td>7</td>\n",
       "      <td>Fall from or in moving vehicle</td>\n",
       "      <td>7</td>\n",
       "      <td>Saturday</td>\n",
       "      <td>190</td>\n",
       "      <td>FELL IN/FROM VEHICLE</td>\n",
       "      <td>MEL</td>\n",
       "      <td>...</td>\n",
       "      <td>2</td>\n",
       "      <td>1</td>\n",
       "      <td>0</td>\n",
       "      <td>0</td>\n",
       "      <td>1</td>\n",
       "      <td>1</td>\n",
       "      <td>5</td>\n",
       "      <td>Not at intersection</td>\n",
       "      <td>2</td>\n",
       "      <td>100</td>\n",
       "    </tr>\n",
       "    <tr>\n",
       "      <th>3</th>\n",
       "      <td>T20060000023</td>\n",
       "      <td>14/01/2006</td>\n",
       "      <td>11:49:00</td>\n",
       "      <td>1</td>\n",
       "      <td>Collision with vehicle</td>\n",
       "      <td>7</td>\n",
       "      <td>Saturday</td>\n",
       "      <td>130</td>\n",
       "      <td>REAR END(VEHICLES IN SAME LANE)</td>\n",
       "      <td>MEL</td>\n",
       "      <td>...</td>\n",
       "      <td>2</td>\n",
       "      <td>1</td>\n",
       "      <td>0</td>\n",
       "      <td>0</td>\n",
       "      <td>1</td>\n",
       "      <td>1</td>\n",
       "      <td>2</td>\n",
       "      <td>T intersection</td>\n",
       "      <td>2</td>\n",
       "      <td>80</td>\n",
       "    </tr>\n",
       "    <tr>\n",
       "      <th>4</th>\n",
       "      <td>T20060000026</td>\n",
       "      <td>14/01/2006</td>\n",
       "      <td>10:45:00</td>\n",
       "      <td>1</td>\n",
       "      <td>Collision with vehicle</td>\n",
       "      <td>7</td>\n",
       "      <td>Saturday</td>\n",
       "      <td>121</td>\n",
       "      <td>RIGHT THROUGH</td>\n",
       "      <td>MEL</td>\n",
       "      <td>...</td>\n",
       "      <td>3</td>\n",
       "      <td>0</td>\n",
       "      <td>3</td>\n",
       "      <td>0</td>\n",
       "      <td>0</td>\n",
       "      <td>1</td>\n",
       "      <td>5</td>\n",
       "      <td>Not at intersection</td>\n",
       "      <td>3</td>\n",
       "      <td>50</td>\n",
       "    </tr>\n",
       "  </tbody>\n",
       "</table>\n",
       "<p>5 rows × 28 columns</p>\n",
       "</div>"
      ],
      "text/plain": [
       "    ACCIDENT_NO ACCIDENTDATE                    ACCIDENTTIME  ACCIDENT_TYPE  \\\n",
       "0  T20060000010   13/01/2006  12:42:00                                    1   \n",
       "1  T20060000018   13/01/2006  19:10:00                                    1   \n",
       "2  T20060000022   14/01/2006  12:10:00                                    7   \n",
       "3  T20060000023   14/01/2006  11:49:00                                    1   \n",
       "4  T20060000026   14/01/2006  10:45:00                                    1   \n",
       "\n",
       "               Accident Type Desc  DAY_OF_WEEK Day Week Description  DCA_CODE  \\\n",
       "0          Collision with vehicle            6               Friday       113   \n",
       "1          Collision with vehicle            6               Friday       113   \n",
       "2  Fall from or in moving vehicle            7             Saturday       190   \n",
       "3          Collision with vehicle            7             Saturday       130   \n",
       "4          Collision with vehicle            7             Saturday       121   \n",
       "\n",
       "                                  DCA Description DIRECTORY  ... NO_PERSONS  \\\n",
       "0  RIGHT NEAR (INTERSECTIONS ONLY)                      MEL  ...          6   \n",
       "1  RIGHT NEAR (INTERSECTIONS ONLY)                      MEL  ...          4   \n",
       "2        FELL IN/FROM VEHICLE                           MEL  ...          2   \n",
       "3  REAR END(VEHICLES IN SAME LANE)                      MEL  ...          2   \n",
       "4           RIGHT THROUGH                               MEL  ...          3   \n",
       "\n",
       "  NO_PERSONS_INJ_2 NO_PERSONS_INJ_3 NO_PERSONS_KILLED  NO_PERSONS_NOT_INJ  \\\n",
       "0                0                1                 0                   5   \n",
       "1                0                1                 0                   3   \n",
       "2                1                0                 0                   1   \n",
       "3                1                0                 0                   1   \n",
       "4                0                3                 0                   0   \n",
       "\n",
       "  POLICE_ATTEND  ROAD_GEOMETRY   Road Geometry Desc  SEVERITY  SPEED_ZONE  \n",
       "0             1              1   Cross intersection         3          60  \n",
       "1             1              2       T intersection         3          70  \n",
       "2             1              5  Not at intersection         2         100  \n",
       "3             1              2       T intersection         2          80  \n",
       "4             1              5  Not at intersection         3          50  \n",
       "\n",
       "[5 rows x 28 columns]"
      ]
     },
     "execution_count": 4,
     "metadata": {},
     "output_type": "execute_result"
    }
   ],
   "source": [
    "# Store it in a Dataframe\n",
    "accident_data_df = pd.DataFrame(accident_data)\n",
    "accident_data_df.head()"
   ]
  },
  {
   "cell_type": "code",
   "execution_count": 5,
   "id": "b6ac42d5",
   "metadata": {},
   "outputs": [
    {
     "data": {
      "text/plain": [
       "203708"
      ]
     },
     "execution_count": 5,
     "metadata": {},
     "output_type": "execute_result"
    }
   ],
   "source": [
    "# Get the total of unique accident data from accident table\n",
    "unique_accident_data = len(accident_data[\"ACCIDENT_NO\"].unique())\n",
    "unique_accident_data"
   ]
  },
  {
   "cell_type": "code",
   "execution_count": 6,
   "id": "2e18906e",
   "metadata": {},
   "outputs": [
    {
     "data": {
      "text/plain": [
       "ACCIDENT_NO             object\n",
       "ACCIDENTDATE            object\n",
       "ACCIDENTTIME            object\n",
       "ACCIDENT_TYPE            int64\n",
       "Accident Type Desc      object\n",
       "DAY_OF_WEEK              int64\n",
       "Day Week Description    object\n",
       "DCA_CODE                 int64\n",
       "DCA Description         object\n",
       "DIRECTORY               object\n",
       "EDITION                 object\n",
       "PAGE                    object\n",
       "GRID_REFERENCE_X        object\n",
       "GRID_REFERENCE_Y        object\n",
       "LIGHT_CONDITION          int64\n",
       "Light Condition Desc    object\n",
       "NODE_ID                  int64\n",
       "NO_OF_VEHICLES           int64\n",
       "NO_PERSONS               int64\n",
       "NO_PERSONS_INJ_2         int64\n",
       "NO_PERSONS_INJ_3         int64\n",
       "NO_PERSONS_KILLED        int64\n",
       "NO_PERSONS_NOT_INJ       int64\n",
       "POLICE_ATTEND            int64\n",
       "ROAD_GEOMETRY            int64\n",
       "Road Geometry Desc      object\n",
       "SEVERITY                 int64\n",
       "SPEED_ZONE               int64\n",
       "dtype: object"
      ]
     },
     "execution_count": 6,
     "metadata": {},
     "output_type": "execute_result"
    }
   ],
   "source": [
    "# Checking the data types\n",
    "column_data_types = accident_data_df.dtypes\n",
    "column_data_types"
   ]
  },
  {
   "cell_type": "code",
   "execution_count": 7,
   "id": "8c3dc14d",
   "metadata": {},
   "outputs": [
    {
     "name": "stdout",
     "output_type": "stream",
     "text": [
      "ACCIDENT_NO             False\n",
      "ACCIDENTDATE            False\n",
      "ACCIDENTTIME            False\n",
      "ACCIDENT_TYPE           False\n",
      "Accident Type Desc      False\n",
      "DAY_OF_WEEK             False\n",
      "Day Week Description    False\n",
      "DCA_CODE                False\n",
      "DCA Description         False\n",
      "DIRECTORY                True\n",
      "EDITION                  True\n",
      "PAGE                     True\n",
      "GRID_REFERENCE_X         True\n",
      "GRID_REFERENCE_Y         True\n",
      "LIGHT_CONDITION         False\n",
      "Light Condition Desc    False\n",
      "NODE_ID                 False\n",
      "NO_OF_VEHICLES          False\n",
      "NO_PERSONS              False\n",
      "NO_PERSONS_INJ_2        False\n",
      "NO_PERSONS_INJ_3        False\n",
      "NO_PERSONS_KILLED       False\n",
      "NO_PERSONS_NOT_INJ      False\n",
      "POLICE_ATTEND           False\n",
      "ROAD_GEOMETRY           False\n",
      "Road Geometry Desc      False\n",
      "SEVERITY                False\n",
      "SPEED_ZONE              False\n",
      "dtype: bool\n"
     ]
    }
   ],
   "source": [
    "# Find columns with missing values\n",
    "columns_with_missing_values = accident_data_df.isnull().any()\n",
    "\n",
    "# Display the columns with missing values\n",
    "print(columns_with_missing_values)"
   ]
  },
  {
   "cell_type": "code",
   "execution_count": 8,
   "id": "4081dc0f",
   "metadata": {},
   "outputs": [],
   "source": [
    "# Drop columns with missing values\n",
    "df_dropped = accident_data_df.drop(columns=columns_with_missing_values[columns_with_missing_values].index, inplace=True)\n",
    "df_dropped"
   ]
  },
  {
   "cell_type": "code",
   "execution_count": 9,
   "id": "04a372aa",
   "metadata": {},
   "outputs": [
    {
     "data": {
      "text/plain": [
       "ACCIDENT_NO             object\n",
       "ACCIDENTDATE            object\n",
       "ACCIDENTTIME            object\n",
       "ACCIDENT_TYPE            int64\n",
       "Accident Type Desc      object\n",
       "DAY_OF_WEEK              int64\n",
       "Day Week Description    object\n",
       "DCA_CODE                 int64\n",
       "DCA Description         object\n",
       "LIGHT_CONDITION          int64\n",
       "Light Condition Desc    object\n",
       "NODE_ID                  int64\n",
       "NO_OF_VEHICLES           int64\n",
       "NO_PERSONS               int64\n",
       "NO_PERSONS_INJ_2         int64\n",
       "NO_PERSONS_INJ_3         int64\n",
       "NO_PERSONS_KILLED        int64\n",
       "NO_PERSONS_NOT_INJ       int64\n",
       "POLICE_ATTEND            int64\n",
       "ROAD_GEOMETRY            int64\n",
       "Road Geometry Desc      object\n",
       "SEVERITY                 int64\n",
       "SPEED_ZONE               int64\n",
       "dtype: object"
      ]
     },
     "execution_count": 9,
     "metadata": {},
     "output_type": "execute_result"
    }
   ],
   "source": [
    "# Checking the data types\n",
    "column_data_types = accident_data_df.dtypes\n",
    "column_data_types"
   ]
  },
  {
   "cell_type": "code",
   "execution_count": 10,
   "id": "573e0fc3",
   "metadata": {},
   "outputs": [
    {
     "data": {
      "text/plain": [
       "ACCIDENT_NO             object\n",
       "ACCIDENTDATE            object\n",
       "ACCIDENTTIME            object\n",
       "ACCIDENT_TYPE            int64\n",
       "Accident Type Desc      object\n",
       "DAY_OF_WEEK              int64\n",
       "Day Week Description    object\n",
       "DCA_CODE                 int64\n",
       "DCA Description         object\n",
       "LIGHT_CONDITION          int64\n",
       "Light Condition Desc    object\n",
       "NO_OF_VEHICLES           int64\n",
       "NO_PERSONS               int64\n",
       "NO_PERSONS_INJ_2         int64\n",
       "NO_PERSONS_INJ_3         int64\n",
       "NO_PERSONS_KILLED        int64\n",
       "NO_PERSONS_NOT_INJ       int64\n",
       "POLICE_ATTEND            int64\n",
       "ROAD_GEOMETRY            int64\n",
       "Road Geometry Desc      object\n",
       "SEVERITY                 int64\n",
       "SPEED_ZONE               int64\n",
       "dtype: object"
      ]
     },
     "execution_count": 10,
     "metadata": {},
     "output_type": "execute_result"
    }
   ],
   "source": [
    "# Drop node_id column as will merge table with Node table later\n",
    "columns_to_drop = ['NODE_ID']\n",
    "\n",
    "accident_data_df = accident_data_df.drop(columns=columns_to_drop)\n",
    "\n",
    "# Checking the data types\n",
    "column_data_types = accident_data_df.dtypes\n",
    "column_data_types"
   ]
  },
  {
   "cell_type": "code",
   "execution_count": 11,
   "id": "4c74a366",
   "metadata": {},
   "outputs": [],
   "source": [
    "# Storing file in Data folder\n",
    "cleaned_data_output_path = Path(\"../Cleaned_Datasets/accident_cleaned.csv\")\n",
    "accident_data_df.to_csv(cleaned_data_output_path, index=None, header=True)"
   ]
  },
  {
   "cell_type": "code",
   "execution_count": null,
   "id": "c7e228f2",
   "metadata": {},
   "outputs": [],
   "source": []
  }
 ],
 "metadata": {
  "kernelspec": {
   "display_name": "Python 3 (ipykernel)",
   "language": "python",
   "name": "python3"
  },
  "language_info": {
   "codemirror_mode": {
    "name": "ipython",
    "version": 3
   },
   "file_extension": ".py",
   "mimetype": "text/x-python",
   "name": "python",
   "nbconvert_exporter": "python",
   "pygments_lexer": "ipython3",
   "version": "3.10.11"
  }
 },
 "nbformat": 4,
 "nbformat_minor": 5
}
